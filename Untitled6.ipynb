{
 "cells": [
  {
   "cell_type": "code",
   "execution_count": 14,
   "id": "e54af443-f8a6-40fc-9e4a-9834158c7be4",
   "metadata": {},
   "outputs": [],
   "source": [
    "import math"
   ]
  },
  {
   "cell_type": "code",
   "execution_count": 15,
   "id": "988611d8-8114-4610-be45-a7f25d93e9bd",
   "metadata": {},
   "outputs": [],
   "source": [
    "points=[(5,5),(5,2),(5,2),(1,2)]"
   ]
  },
  {
   "cell_type": "code",
   "execution_count": 16,
   "id": "e7221d85-d5f7-41c4-8a1e-d10781f7a142",
   "metadata": {},
   "outputs": [],
   "source": [
    "def euclideanDistance(points):\n",
    "    distance=math.sqrt(((points[0])[1]-(points[1])[1])**2+((points[2])[0]-(points[3])[0])**2)\n",
    "    return distance"
   ]
  },
  {
   "cell_type": "code",
   "execution_count": 18,
   "id": "cfbc542b-6a08-4680-9647-697ba532ad43",
   "metadata": {},
   "outputs": [
    {
     "data": {
      "text/plain": [
       "5.0"
      ]
     },
     "execution_count": 18,
     "metadata": {},
     "output_type": "execute_result"
    }
   ],
   "source": [
    "euclideanDistance(points)"
   ]
  },
  {
   "cell_type": "code",
   "execution_count": null,
   "id": "87327f7b-838d-485f-b135-0bc8dd293788",
   "metadata": {},
   "outputs": [],
   "source": []
  }
 ],
 "metadata": {
  "kernelspec": {
   "display_name": "Python 3 (ipykernel)",
   "language": "python",
   "name": "python3"
  },
  "language_info": {
   "codemirror_mode": {
    "name": "ipython",
    "version": 3
   },
   "file_extension": ".py",
   "mimetype": "text/x-python",
   "name": "python",
   "nbconvert_exporter": "python",
   "pygments_lexer": "ipython3",
   "version": "3.12.4"
  }
 },
 "nbformat": 4,
 "nbformat_minor": 5
}
